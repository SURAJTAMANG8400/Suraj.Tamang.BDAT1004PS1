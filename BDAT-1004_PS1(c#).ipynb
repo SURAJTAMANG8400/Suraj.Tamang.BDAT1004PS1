{
 "cells": [
  {
   "cell_type": "markdown",
   "id": "c5f4f7c6",
   "metadata": {},
   "source": [
    "# Question 1\n",
    "\n",
    "What data type is each of the following?\n",
    "\n",
    "* 5 ==> Int\n",
    "* 5.0 ==> Double\n",
    "* 5 > 1 ==> bool\n",
    "* '5' ==> Char\n",
    "* 5 * 2 ==> Int\n",
    "* '5' * 2 ==> String\n",
    "* '5' + '2' ==> String\n",
    "* 5 / 2 ==> Double\n",
    "* 5 % 2 ==> Int\n",
    "* {5, 2, 1} ==> Array\n",
    "* 5 == 3 ==> Bool\n",
    "* pi( the number ) ==> Double"
   ]
  },
  {
   "cell_type": "markdown",
   "id": "93c4a51d",
   "metadata": {},
   "source": [
    "# Question 2"
   ]
  },
  {
   "cell_type": "markdown",
   "id": "ae48f998",
   "metadata": {},
   "source": [
    "a. How many letters are there in 'Supercalifragilisticexpialidocious'?"
   ]
  },
  {
   "cell_type": "code",
   "execution_count": 1,
   "id": "aef255ca",
   "metadata": {},
   "outputs": [
    {
     "name": "stdout",
     "output_type": "stream",
     "text": [
      "number of letters in Supercalifragilisticexpialidocious = 34\r\n"
     ]
    }
   ],
   "source": [
    "string inputString = \"Supercalifragilisticexpialidocious\";\n",
    "int count = 0;\n",
    "\n",
    "foreach(char c in inputString)\n",
    "{\n",
    "  count++;     // we can also use inputstring.Length for direct calculation\n",
    "}\n",
    "\n",
    "Console.WriteLine($\"number of letters in {inputString} = {count}\");"
   ]
  },
  {
   "cell_type": "markdown",
   "id": "c7dce616",
   "metadata": {},
   "source": [
    "b. Does 'Supercalifragilisticexpialidocious' contain 'ice' as a substring? \n"
   ]
  },
  {
   "cell_type": "code",
   "execution_count": 16,
   "id": "b2db9186",
   "metadata": {},
   "outputs": [
    {
     "name": "stdout",
     "output_type": "stream",
     "text": [
      "yes, it contains\r\n"
     ]
    }
   ],
   "source": [
    "string mainString = \"Supercalifragilisticexpialidocious\";\n",
    "string substringToFind = \"ice\";\n",
    "\n",
    "bool found = false;\n",
    "\n",
    "for (int i=0; i <= mainString.Length - substringToFind.Length; i++ )\n",
    "   {\n",
    "    if(mainString.Substring(i,substringToFind.Length)== substringToFind)\n",
    "    {\n",
    "        found = true;\n",
    "        break;\n",
    "    }\n",
    "   }\n",
    "    \n",
    "if (found)\n",
    "{\n",
    "    Console.WriteLine(\"yes, it contains\");\n",
    "}\n",
    "else\n",
    "{\n",
    "    Console.WriteLine(\" No, it does not contain\");\n",
    "}\n",
    "   "
   ]
  },
  {
   "cell_type": "markdown",
   "id": "01cbbb25",
   "metadata": {},
   "source": [
    "c. Which of the following words is the longest: \n",
    "Supercalifragilisticexpialidocious, Honorificabilitudinitatibus, or \n",
    "Bababadalgharaghtakamminarronnkonn?"
   ]
  },
  {
   "cell_type": "code",
   "execution_count": 7,
   "id": "60195514",
   "metadata": {},
   "outputs": [
    {
     "name": "stdout",
     "output_type": "stream",
     "text": [
      "the longest word is: Bababadalgharaghtakamminarronnkonn\r\n"
     ]
    }
   ],
   "source": [
    "string w1 = \"Supercalifragilisticexpialidocious\";\n",
    "string w2 = \"Honorificabilitudinitatibus\";\n",
    "string w3 = \"Bababadalgharaghtakamminarronnkonn\";\n",
    "\n",
    "string longest_word = \"\";\n",
    "\n",
    "if (w1.Length > w2.Length && w1.Length > w3.Length)\n",
    "{\n",
    "    longest_word = w1;\n",
    "}\n",
    "else if (w2.Length > w1.Length && w2.Length > w3.Length)\n",
    "{\n",
    "    longest_word = w2;\n",
    "}\n",
    "else\n",
    "{\n",
    "    longest_word = w3;\n",
    "}\n",
    "\n",
    "Console.WriteLine($\"the longest word is: {longest_word}\");"
   ]
  },
  {
   "cell_type": "markdown",
   "id": "a9743af6",
   "metadata": {},
   "source": [
    "D. Which composer comes first in the dictionary: 'Berlioz', 'Borodin', 'Brian', \n",
    "'Bartok', 'Bellini', 'Buxtehude', 'Bernstein'. Which one comes last?\n"
   ]
  },
  {
   "cell_type": "code",
   "execution_count": 6,
   "id": "62247c86",
   "metadata": {},
   "outputs": [
    {
     "name": "stdout",
     "output_type": "stream",
     "text": [
      "Bartok comes first in the dictionary\n",
      "Buxtehude comes  last in the dictionary\n"
     ]
    }
   ],
   "source": [
    "string[] composers = {\"Berlioz\", \"Borodin\", \"Brian\", \"Bartok\", \"Bellini\", \"Buxtehude\", \"Bernstein\"};\n",
    "\n",
    "Array.Sort(composers);  // sort the composers alphabatically\n",
    "\n",
    "string first_composer = composers.First();\n",
    "string last_composer = composers.Last();\n",
    "\n",
    "Console.WriteLine($\"{first_composer} comes first in the dictionary\");\n",
    "Console.WriteLine($\"{last_composer} comes  last in the dictionary\");\n",
    "\n"
   ]
  },
  {
   "cell_type": "markdown",
   "id": "39ac6f51",
   "metadata": {},
   "source": [
    "# Question 3"
   ]
  },
  {
   "cell_type": "markdown",
   "id": "663cb396",
   "metadata": {},
   "source": [
    "* Implement function triangleArea(a,b,c) that takes as input the lengths of the 3\n",
    "  sides of a triangle and returns the area of the triangle. By Heron's formula, the area \n",
    "  of a triangle with side lengths a, b, and c is\n",
    "  s(s - a)(s -b)(s -c)\n",
    "  , where \n",
    "  s = (a+b+c)/2. \n",
    "* triangleArea(2,2,2)\n",
    "* 1.7320508075688772\n"
   ]
  },
  {
   "cell_type": "code",
   "execution_count": 5,
   "id": "3a198aa0",
   "metadata": {},
   "outputs": [
    {
     "name": "stdout",
     "output_type": "stream",
     "text": [
      "1.7320508075688772\r\n"
     ]
    }
   ],
   "source": [
    "class AreaOfTriangle \n",
    "{\n",
    "\n",
    "  public double triangleArea(double a, double b, double c)\n",
    "  {\n",
    "    double s = (a+b+c)/2;  // calculate the semi- parimeter\n",
    "    \n",
    "    double Area = Math.Sqrt(s*(s-a)*(s-b)*(s-c)); // calculate the area using heron's formula\n",
    "    \n",
    "    return Area;        \n",
    "  }\n",
    "}\n",
    "\n",
    "AreaOfTriangle triangle = new AreaOfTriangle(); // create an instance of AreaOfTriangle\n",
    "double Area = triangle.triangleArea(2,2,2);\n",
    "Console.WriteLine(Area);\n"
   ]
  },
  {
   "cell_type": "markdown",
   "id": "de0a1f8f",
   "metadata": {},
   "source": [
    "# Question 4 \n",
    "Write a program in C# Sharp to separate odd and even integers in separate arrays. \n",
    "Go to the editor\n",
    "Test Data :\n",
    "Input the number of elements to be stored in the array :5\n",
    "\n",
    "* Input 5 elements in the array :\n",
    "* element - 0 : 25\n",
    "* element - 1 : 47\n",
    "* element - 2 : 42\n",
    "* element - 3 : 56\n",
    "* element - 4 : 32\n",
    "* Expected Output:\n",
    "* The Even elements are:\n",
    "\n",
    "42 56 32\n",
    "* The Odd elements are :\n",
    "\n",
    "25 47\n",
    "\n"
   ]
  },
  {
   "cell_type": "markdown",
   "id": "32daf5de",
   "metadata": {},
   "source": [
    "# this code is running on visual studio  but does not in jupyter notebook"
   ]
  },
  {
   "cell_type": "code",
   "execution_count": 22,
   "id": "376d9dfa",
   "metadata": {},
   "outputs": [
    {
     "name": "stdout",
     "output_type": "stream",
     "text": [
      "enter the number of elements to be stored in the array"
     ]
    },
    {
     "ename": "Unhandled Exception",
     "evalue": "Value cannot be null. (Parameter 's')",
     "output_type": "error",
     "traceback": [
      "Unhandled Exception",
      "Value cannot be null. (Parameter 's')",
      "   at System.Int32.Parse(String s)",
      "   at Submission#23.<<Initialize>>d__0.MoveNext()",
      "--- End of stack trace from previous location where exception was thrown ---",
      "   at Microsoft.CodeAnalysis.Scripting.ScriptExecutionState.RunSubmissionsAsync[TResult](ImmutableArray`1 precedingExecutors, Func`2 currentExecutor, StrongBox`1 exceptionHolderOpt, Func`2 catchExceptionOpt, CancellationToken cancellationToken)"
     ]
    }
   ],
   "source": [
    "\n",
    "\n",
    "//this code is running on visual studio  but does not in jupyter notebook\n",
    "\n",
    "\n",
    "Console.Write(\"enter the number of elements to be stored in the array\");\n",
    "int no_of_elements = int.Parse(Console.ReadLine());\n",
    "\n",
    "int[] arr = new int[no_of_elements];\n",
    "int[] evenArray = new int[no_of_elements];\n",
    "int[] oddArray = new int[no_of_elements];\n",
    "\n",
    "\n",
    "Console.WriteLine($\"input {no_of_elements} elements in the Array:  \");\n",
    "\n",
    "for (int i = 0; i < no_of_elements; i++)\n",
    "    {\n",
    "       Console.Write($\" elements - {i}: \") ;\n",
    "        arr[i] = int.Parse(Console.ReadLine());\n",
    "    }\n",
    "    \n",
    "int count_of_even_no = 0;\n",
    "int count_of_odd_no = 0;\n",
    "\n",
    "foreach( int i in arr)\n",
    "{\n",
    "   if (i% 2 == 0) \n",
    "   {\n",
    "       evenArray[count_of_even_no] = i;\n",
    "       count_of_even_no ++;\n",
    "       \n",
    "   }\n",
    "    \n",
    "   else \n",
    "   {\n",
    "       oddArray[count_of_odd_no] = i;\n",
    "       count_of_odd_no ++ ;\n",
    "       \n",
    "   }\n",
    "     \n",
    "}\n",
    "    \n",
    "    \n",
    "Console.WriteLine(\"The Even elements are: \")  ;\n",
    "for(int i = 0; i < count_of_even_no; i++)\n",
    "    \n",
    "{\n",
    "    Console.Write(evenArray[i] + \" \");\n",
    "}\n",
    "\n",
    "Console.Write(\"\\n\");\n",
    "\n",
    "Console.WriteLine(\"The odd elements are: \");\n",
    "for(int i = 0; i < count_of_odd_no; i++)\n",
    "{\n",
    "    \n",
    "    Console.Write(oddArray[i] + \" \");\n",
    "}\n",
    "    \n",
    "    \n",
    "    "
   ]
  },
  {
   "cell_type": "code",
   "execution_count": null,
   "id": "4f335979",
   "metadata": {},
   "outputs": [],
   "source": []
  },
  {
   "cell_type": "markdown",
   "id": "19721405",
   "metadata": {},
   "source": [
    "# Question 5 \n",
    "\n",
    "* a. Write a function inside(x,y,x1,y1,x2,y2) that returns True or False depending on whether the point (x,y) lies in the rectangle with lower left corner (x1,y1) and upper right corner (x2,y2).\n",
    "\n",
    "* inside(1,1,0,0,2,3)\n",
    "True\n",
    "* inside(-1,-1,0,0,2,3)\n",
    "False\n",
    "\n",
    "* b. Use function inside() from part a. to write an expression that tests whether the point (1,1) lies in both of the following rectangles: one with lower left corner (0.3, 0.5) and upper right corner (1.1, 0.7) and the other with lower left corner (0.5, 0.2) and upper right corner (1.1, 2). "
   ]
  },
  {
   "cell_type": "code",
   "execution_count": 37,
   "id": "c1c37660",
   "metadata": {},
   "outputs": [
    {
     "name": "stdout",
     "output_type": "stream",
     "text": [
      "True\n",
      "False\n"
     ]
    }
   ],
   "source": [
    "// part a\n",
    "public static bool Inside(double x, double y, double x1, double y1, double x2, double y2 )\n",
    "{\n",
    "    return x>=x1 && x <= x2 && y >= y1 && y <= y2;\n",
    "}    \n",
    "\n",
    "bool isInside1 = Inside(1,1,0,0,2,3);\n",
    "bool isInside2 = Inside(-1,-1,0,0,2,3);\n",
    "\n",
    "Console.WriteLine(isInside1);\n",
    "Console.WriteLine(isInside2);\n"
   ]
  },
  {
   "cell_type": "code",
   "execution_count": 43,
   "id": "179b9b50",
   "metadata": {},
   "outputs": [
    {
     "name": "stdout",
     "output_type": "stream",
     "text": [
      "False\n",
      "True\n",
      "the point (1,1) does not lie in both rectangles\n"
     ]
    }
   ],
   "source": [
    "// part b\n",
    "\n",
    "bool isInRect1 = Inside(1,1,0.3,0.5,1.1,0.7);\n",
    "bool isInRect2 = Inside(1,1,0.5,0.2,1.1,2);\n",
    "Console.WriteLine(isInRect1);\n",
    "Console.WriteLine(isInRect2);\n",
    "\n",
    "if (isInRect1 && isInRect2)\n",
    " {\n",
    "   Console.WriteLine(\"the point (1,1) lies in both rectangles.\");\n",
    "}\n",
    "else\n",
    "{\n",
    " Console.WriteLine(\"the point (1,1) does not lie in both rectangles\");\n",
    "}"
   ]
  }
 ],
 "metadata": {
  "kernelspec": {
   "display_name": ".NET (C#)",
   "language": "C#",
   "name": ".net-csharp"
  },
  "language_info": {
   "file_extension": ".cs",
   "mimetype": "text/x-csharp",
   "name": "C#",
   "pygments_lexer": "csharp",
   "version": "11.0"
  }
 },
 "nbformat": 4,
 "nbformat_minor": 5
}
